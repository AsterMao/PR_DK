{
 "cells": [
  {
   "cell_type": "code",
   "execution_count": 1,
   "metadata": {},
   "outputs": [],
   "source": [
    "import numpy as np\n",
    "import cv2\n",
    "import sys\n",
    "import os\n",
    "from sklearn.model_selection import train_test_split\n",
    "from sklearn.naive_bayes import MultinomialNB\n",
    "from sklearn.naive_bayes import GaussianNB"
   ]
  },
  {
   "cell_type": "code",
   "execution_count": 2,
   "metadata": {},
   "outputs": [
    {
     "name": "stdout",
     "output_type": "stream",
     "text": [
      "1.png\n",
      "10.png\n",
      "2 .png\n",
      "3.png\n",
      "4.png\n",
      "5.png\n",
      "6..png\n",
      "7.png\n",
      "8.png\n",
      "9.png\n",
      "加入non_ducks資料完成\n"
     ]
    }
   ],
   "source": [
    "#輸入非鴨子訓練資料\n",
    "nondurk=os.listdir('nonduck/')\n",
    "data=[]\n",
    "labal=[]\n",
    "for i in nondurk:\n",
    "    src = 'nonduck/'+i\n",
    "    img = cv2.imread(src, cv2.IMREAD_UNCHANGED)\n",
    "    print(i)\n",
    "    for i in range(img.shape[0]):\n",
    "        for j in range(img.shape[1]):\n",
    "            #print(img[i,j])\n",
    "            data.append(img[i,j])\n",
    "            labal.append(0)\n",
    "print(\"加入non_ducks資料完成\")"
   ]
  },
  {
   "cell_type": "code",
   "execution_count": 3,
   "metadata": {},
   "outputs": [
    {
     "name": "stdout",
     "output_type": "stream",
     "text": [
      "1.png\n",
      "10.png\n",
      "2.png\n",
      "3.png\n",
      "4.png\n",
      "5.png\n",
      "6.png\n",
      "7.png\n",
      "8.png\n",
      "9.png\n",
      "加入ducks資料完成\n"
     ]
    }
   ],
   "source": [
    "#輸入鴨子訓練資料\n",
    "durk=os.listdir('duck/')\n",
    "for i in durk:\n",
    "    src = 'duck/'+i\n",
    "    img = cv2.imread(src, cv2.IMREAD_UNCHANGED)\n",
    "    print(i)\n",
    "    for i in range(img.shape[0]):\n",
    "        for j in range(img.shape[1]):\n",
    "            #print(img[i,j])\n",
    "            data.append(img[i,j])\n",
    "            labal.append(1)\n",
    "print(\"加入ducks資料完成\")\n",
    "#轉換成numpy_array\n",
    "data = np.array(data)\n",
    "labal = np.array(labal)"
   ]
  },
  {
   "cell_type": "code",
   "execution_count": 4,
   "metadata": {},
   "outputs": [],
   "source": [
    "clf_pf = GaussianNB()\n",
    "clf_pf.fit(data, labal) \n",
    "img = cv2.imread('output.png', cv2.IMREAD_UNCHANGED)"
   ]
  },
  {
   "cell_type": "code",
   "execution_count": 5,
   "metadata": {},
   "outputs": [
    {
     "data": {
      "text/plain": [
       "True"
      ]
     },
     "execution_count": 5,
     "metadata": {},
     "output_type": "execute_result"
    }
   ],
   "source": [
    "for i in range(img.shape[0]):\n",
    "    data=[]\n",
    "    for j in range(img.shape[1]) :\n",
    "        data.append(img[i,j])\n",
    "    data = np.array(data)\n",
    "    predict = clf_pf.predict(data)\n",
    "    for j in range(img.shape[1]) :\n",
    "        if(predict[j]==1):\n",
    "            img[i,j]=0,0,255,255\n",
    "cv2.imwrite('test_end.png', img)"
   ]
  }
 ],
 "metadata": {
  "kernelspec": {
   "display_name": "Python 3",
   "language": "python",
   "name": "python3"
  },
  "language_info": {
   "codemirror_mode": {
    "name": "ipython",
    "version": 3
   },
   "file_extension": ".py",
   "mimetype": "text/x-python",
   "name": "python",
   "nbconvert_exporter": "python",
   "pygments_lexer": "ipython3",
   "version": "3.5.6"
  }
 },
 "nbformat": 4,
 "nbformat_minor": 2
}
